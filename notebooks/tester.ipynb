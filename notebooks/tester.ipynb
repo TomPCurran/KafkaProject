{
 "cells": [
  {
   "cell_type": "code",
   "execution_count": 1,
   "metadata": {},
   "outputs": [
    {
     "name": "stdout",
     "output_type": "stream",
     "text": [
      "Requirement already satisfied: python-dotenv in /Users/thomascurran/anaconda3/envs/StockPredictorPlatform/lib/python3.10/site-packages (1.0.0)\n"
     ]
    }
   ],
   "source": [
    "!pip install python-dotenv"
   ]
  },
  {
   "cell_type": "code",
   "execution_count": 2,
   "metadata": {},
   "outputs": [],
   "source": [
    "import json\n",
    "from kafka import KafkaProducer\n",
    "from twelvedata import TDClient\n",
    "from dotenv import load_dotenv\n",
    "import os\n",
    "\n",
    "load_dotenv()\n",
    "\n",
    "API_KEY = os.getenv(\"TWELVE_DATA_API_KEY\")"
   ]
  },
  {
   "cell_type": "code",
   "execution_count": 4,
   "metadata": {},
   "outputs": [],
   "source": [
    "client = TDClient(API_KEY)"
   ]
  },
  {
   "cell_type": "code",
   "execution_count": 6,
   "metadata": {},
   "outputs": [
    {
     "data": {
      "text/plain": [
       "({'datetime': '2024-01-12 15:30:00',\n",
       "  'open': '185.52000',\n",
       "  'high': '185.98000',\n",
       "  'low': '185.46590',\n",
       "  'close': '185.92000',\n",
       "  'volume': '4865441'},)"
      ]
     },
     "execution_count": 6,
     "metadata": {},
     "output_type": "execute_result"
    }
   ],
   "source": [
    "data = client.time_series(symbol=['AAPL'], interval=\"1h\", outputsize=1).as_json()\n",
    "data"
   ]
  },
  {
   "cell_type": "code",
   "execution_count": 8,
   "metadata": {},
   "outputs": [],
   "source": [
    "import pandas_market_calendars as mcal"
   ]
  },
  {
   "cell_type": "code",
   "execution_count": 17,
   "metadata": {},
   "outputs": [
    {
     "name": "stdout",
     "output_type": "stream",
     "text": [
      "Is NYSE trading today? False\n"
     ]
    }
   ],
   "source": [
    "nyse = mcal.get_calendar(\"NYSE\")\n",
    "import datetime\n",
    "\n",
    "# datetime.datetime.now().strftime(\"%Y-%m-%d %H:%M:%S\")\n",
    "today = datetime.date.today()\n",
    "is_trading_day = today in nyse.valid_days(\n",
    "    today, today\n",
    ")  # Check for today's date specifically\n",
    "\n",
    "print(\"Is NYSE trading today?\", is_trading_day)"
   ]
  },
  {
   "cell_type": "code",
   "execution_count": 13,
   "metadata": {},
   "outputs": [
    {
     "data": {
      "text/plain": [
       "'2024-01-15 16:20:26'"
      ]
     },
     "execution_count": 13,
     "metadata": {},
     "output_type": "execute_result"
    }
   ],
   "source": [
    "import datetime\n",
    "\n",
    "datetime.datetime.now().strftime(\"%Y-%m-%d %H:%M:%S\")"
   ]
  },
  {
   "cell_type": "code",
   "execution_count": 18,
   "metadata": {},
   "outputs": [
    {
     "name": "stdout",
     "output_type": "stream",
     "text": [
      "Market is not open today.\n"
     ]
    }
   ],
   "source": [
    "import pandas_market_calendars as mcal\n",
    "import datetime\n",
    "import pytz  # For handling time zones\n",
    "\n",
    "nyse = mcal.get_calendar(\"NYSE\")\n",
    "\n",
    "# Get today's date and time in Eastern Time (NYSE time zone)\n",
    "today = datetime.datetime.now(pytz.timezone(\"US/Eastern\")).date()\n",
    "current_time = datetime.datetime.now(pytz.timezone(\"US/Eastern\")).time()\n",
    "\n",
    "# Check if today is a trading day\n",
    "is_trading_day = today in nyse.valid_days(today, today)\n",
    "\n",
    "if is_trading_day:\n",
    "    # Get market open and close times for today\n",
    "    market_open = nyse.open_time.tz_localize(\"US/Eastern\").time()  # Localize to EST\n",
    "    market_close = nyse.close_time.tz_localize(\"US/Eastern\").time()\n",
    "\n",
    "    # Check if current time is within market hours\n",
    "    is_market_open = market_open <= current_time <= market_close\n",
    "\n",
    "    print(\"Is market open now?\", is_market_open)\n",
    "else:\n",
    "    print(\"Market is not open today.\")"
   ]
  },
  {
   "cell_type": "code",
   "execution_count": null,
   "metadata": {},
   "outputs": [],
   "source": []
  }
 ],
 "metadata": {
  "kernelspec": {
   "display_name": "StockPredictorPlatform",
   "language": "python",
   "name": "python3"
  },
  "language_info": {
   "codemirror_mode": {
    "name": "ipython",
    "version": 3
   },
   "file_extension": ".py",
   "mimetype": "text/x-python",
   "name": "python",
   "nbconvert_exporter": "python",
   "pygments_lexer": "ipython3",
   "version": "3.10.13"
  }
 },
 "nbformat": 4,
 "nbformat_minor": 2
}
